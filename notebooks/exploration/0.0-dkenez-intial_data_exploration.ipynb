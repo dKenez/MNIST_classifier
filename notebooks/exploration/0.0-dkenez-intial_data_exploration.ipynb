{
 "cells": [
  {
   "cell_type": "code",
   "execution_count": 2,
   "metadata": {},
   "outputs": [],
   "source": [
    "# OPTIONAL: Load the \"autoreload\" extension so that code can change\n",
    "%load_ext autoreload\n",
    "\n",
    "# OPTIONAL: always reload modules so that as you change code in src, it gets loaded\n",
    "%autoreload 2"
   ]
  },
  {
   "cell_type": "code",
   "execution_count": 3,
   "metadata": {},
   "outputs": [],
   "source": [
    "import numpy as np\n",
    "import torch\n",
    "import matplotlib.pyplot as plt\n",
    "\n",
    "from pathlib import Path"
   ]
  },
  {
   "cell_type": "code",
   "execution_count": 4,
   "metadata": {},
   "outputs": [],
   "source": [
    "root_dir = Path.cwd().parent.parent"
   ]
  },
  {
   "cell_type": "code",
   "execution_count": 5,
   "metadata": {},
   "outputs": [
    {
     "name": "stdout",
     "output_type": "stream",
     "text": [
      "test_x.shape=(5000, 28, 28)\n",
      "test_x.dtype=dtype('float64')\n",
      "test_y.shape=(5000,)\n",
      "test_y.dtype=dtype('int64')\n",
      "train_0_x.shape=(5000, 28, 28)\n",
      "train_0_x.dtype=dtype('float64')\n",
      "train_0_y.shape=(5000,)\n",
      "train_0_y.dtype=dtype('int64')\n",
      "train_1_x.shape=(5000, 28, 28)\n",
      "train_1_x.dtype=dtype('float64')\n",
      "train_1_y.shape=(5000,)\n",
      "train_1_y.dtype=dtype('int64')\n",
      "train_2_x.shape=(5000, 28, 28)\n",
      "train_2_x.dtype=dtype('float64')\n",
      "train_2_y.shape=(5000,)\n",
      "train_2_y.dtype=dtype('int64')\n",
      "train_3_x.shape=(5000, 28, 28)\n",
      "train_3_x.dtype=dtype('float64')\n",
      "train_3_y.shape=(5000,)\n",
      "train_3_y.dtype=dtype('int64')\n",
      "train_4_x.shape=(5000, 28, 28)\n",
      "train_4_x.dtype=dtype('float64')\n",
      "train_4_y.shape=(5000,)\n",
      "train_4_y.dtype=dtype('int64')\n"
     ]
    }
   ],
   "source": [
    "with np.load(root_dir / \"data/raw/test.npz\") as train_file:\n",
    "    test_x = train_file[\"images\"]\n",
    "    test_y = train_file[\"labels\"]\n",
    "with np.load(root_dir / \"data/raw/train_0.npz\") as train_file:\n",
    "    train_0_x = train_file[\"images\"]\n",
    "    train_0_y = train_file[\"labels\"]\n",
    "with np.load(root_dir / \"data/raw/train_1.npz\") as train_file:\n",
    "    train_1_x = train_file[\"images\"]\n",
    "    train_1_y = train_file[\"labels\"]\n",
    "with np.load(root_dir / \"data/raw/train_2.npz\") as train_file:\n",
    "    train_2_x = train_file[\"images\"]\n",
    "    train_2_y = train_file[\"labels\"]\n",
    "with np.load(root_dir / \"data/raw/train_3.npz\") as train_file:\n",
    "    train_3_x = train_file[\"images\"]\n",
    "    train_3_y = train_file[\"labels\"]\n",
    "with np.load(root_dir / \"data/raw/train_4.npz\") as train_file:\n",
    "    train_4_x = train_file[\"images\"]\n",
    "    train_4_y = train_file[\"labels\"]\n",
    "        \n",
    "print(f\"{test_x.shape=}\")\n",
    "print(f\"{test_x.dtype=}\")\n",
    "print(f\"{test_y.shape=}\")\n",
    "print(f\"{test_y.dtype=}\")\n",
    "print(f\"{train_0_x.shape=}\")\n",
    "print(f\"{train_0_x.dtype=}\")\n",
    "print(f\"{train_0_y.shape=}\")\n",
    "print(f\"{train_0_y.dtype=}\")\n",
    "print(f\"{train_1_x.shape=}\")\n",
    "print(f\"{train_1_x.dtype=}\")\n",
    "print(f\"{train_1_y.shape=}\")\n",
    "print(f\"{train_1_y.dtype=}\")\n",
    "print(f\"{train_2_x.shape=}\")\n",
    "print(f\"{train_2_x.dtype=}\")\n",
    "print(f\"{train_2_y.shape=}\")\n",
    "print(f\"{train_2_y.dtype=}\")\n",
    "print(f\"{train_3_x.shape=}\")\n",
    "print(f\"{train_3_x.dtype=}\")\n",
    "print(f\"{train_3_y.shape=}\")\n",
    "print(f\"{train_3_y.dtype=}\")\n",
    "print(f\"{train_4_x.shape=}\")\n",
    "print(f\"{train_4_x.dtype=}\")\n",
    "print(f\"{train_4_y.shape=}\")\n",
    "print(f\"{train_4_y.dtype=}\")"
   ]
  },
  {
   "cell_type": "code",
   "execution_count": 21,
   "metadata": {},
   "outputs": [
    {
     "name": "stdout",
     "output_type": "stream",
     "text": [
      "1\n"
     ]
    },
    {
     "data": {
      "image/png": "[encoded data removed]",
      "text/plain": [
       "<Figure size 640x480 with 1 Axes>"
      ]
     },
     "metadata": {},
     "output_type": "display_data"
    }
   ],
   "source": [
    "from random import randint\n",
    "\n",
    "rand_index = randint(0, test_x.shape[0])\n",
    "\n",
    "item = test_x[rand_index]\n",
    "item_label = test_y[rand_index]\n",
    "print(item_label)\n",
    "\n",
    "plt.imshow(item)\n",
    "plt.show()"
   ]
  }
 ],
 "metadata": {
  "kernelspec": {
   "display_name": "mlops_ex1",
   "language": "python",
   "name": "python3"
  },
  "language_info": {
   "codemirror_mode": {
    "name": "ipython",
    "version": 3
   },
   "file_extension": ".py",
   "mimetype": "text/x-python",
   "name": "python",
   "nbconvert_exporter": "python",
   "pygments_lexer": "ipython3",
   "version": "3.10.8"
  },
  "orig_nbformat": 4,
  "vscode": {
   "interpreter": {
    "hash": "0a33966b92c8ccde58aee73c5beb0747ba424165e68c8173cc4d06b3767331c0"
   }
  }
 },
 "nbformat": 4,
 "nbformat_minor": 2
}
