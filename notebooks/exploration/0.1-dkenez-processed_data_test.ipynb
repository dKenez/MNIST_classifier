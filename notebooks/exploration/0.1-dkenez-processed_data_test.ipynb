{
 "cells": [
  {
   "cell_type": "code",
   "execution_count": 1,
   "metadata": {},
   "outputs": [],
   "source": [
    "# OPTIONAL: Load the \"autoreload\" extension so that code can change\n",
    "%load_ext autoreload\n",
    "\n",
    "# OPTIONAL: always reload modules so that as you change code in src, it gets loaded\n",
    "%autoreload 2"
   ]
  },
  {
   "cell_type": "code",
   "execution_count": 2,
   "metadata": {},
   "outputs": [],
   "source": [
    "import numpy as np\n",
    "import torch\n",
    "import matplotlib.pyplot as plt\n",
    "\n",
    "from pathlib import Path"
   ]
  },
  {
   "cell_type": "code",
   "execution_count": 3,
   "metadata": {},
   "outputs": [],
   "source": [
    "root_dir = Path.cwd().parent.parent"
   ]
  },
  {
   "cell_type": "code",
   "execution_count": 4,
   "metadata": {},
   "outputs": [
    {
     "name": "stdout",
     "output_type": "stream",
     "text": [
      "train_x.shape=(24000, 28, 28)\n",
      "train_x.dtype=dtype('float32')\n",
      "train_y.shape=(24000,)\n",
      "train_y.dtype=dtype('int64')\n",
      "test_x.shape=(6000, 28, 28)\n",
      "test_x.dtype=dtype('float32')\n",
      "test_y.shape=(6000,)\n",
      "test_y.dtype=dtype('int64')\n"
     ]
    }
   ],
   "source": [
    "with np.load(root_dir / \"data/processed/train.npz\") as train_data_file:\n",
    "    train_x = train_data_file[\"images\"]\n",
    "    train_y = train_data_file[\"labels\"]\n",
    "\n",
    "with np.load(root_dir / \"data/processed/test.npz\") as test_file:\n",
    "    test_x = test_file[\"images\"]\n",
    "    test_y = test_file[\"labels\"]\n",
    "        \n",
    "print(f\"{train_x.shape=}\")\n",
    "print(f\"{train_x.dtype=}\")\n",
    "print(f\"{train_y.shape=}\")\n",
    "print(f\"{train_y.dtype=}\")\n",
    "\n",
    "print(f\"{test_x.shape=}\")\n",
    "print(f\"{test_x.dtype=}\")\n",
    "print(f\"{test_y.shape=}\")\n",
    "print(f\"{test_y.dtype=}\")"
   ]
  },
  {
   "cell_type": "code",
   "execution_count": 5,
   "metadata": {},
   "outputs": [
    {
     "name": "stdout",
     "output_type": "stream",
     "text": [
      "7\n"
     ]
    },
    {
     "data": {
      "image/png": "[encoded data removed]",
      "text/plain": [
       "<Figure size 640x480 with 1 Axes>"
      ]
     },
     "metadata": {},
     "output_type": "display_data"
    }
   ],
   "source": [
    "from random import randint\n",
    "\n",
    "rand_index = randint(0, test_x.shape[0])\n",
    "\n",
    "item = test_x[rand_index]\n",
    "item_label = test_y[rand_index]\n",
    "print(item_label)\n",
    "\n",
    "plt.imshow(item)\n",
    "plt.show()"
   ]
  }
 ],
 "metadata": {
  "kernelspec": {
   "display_name": "mlops_ex1",
   "language": "python",
   "name": "python3"
  },
  "language_info": {
   "codemirror_mode": {
    "name": "ipython",
    "version": 3
   },
   "file_extension": ".py",
   "mimetype": "text/x-python",
   "name": "python",
   "nbconvert_exporter": "python",
   "pygments_lexer": "ipython3",
   "version": "3.10.8"
  },
  "orig_nbformat": 4,
  "vscode": {
   "interpreter": {
    "hash": "0a33966b92c8ccde58aee73c5beb0747ba424165e68c8173cc4d06b3767331c0"
   }
  }
 },
 "nbformat": 4,
 "nbformat_minor": 2
}
